{
 "cells": [
  {
   "cell_type": "markdown",
   "metadata": {},
   "source": [
    "# Shor's alogrithm implementation \n",
    "<script src=\"https://cdn.mathjax.org/mathjax/latest/MathJax.js?config=TeX-AMS-MML_HTMLorMML\" type=\"text/javascript\"></script>"
   ]
  },
  {
   "cell_type": "markdown",
   "metadata": {},
   "source": [
    "## Classical Part\n",
    "1.Pick a random number $a < N$.                                                                                      \n",
    "2.Compute $gcd(a,N)$, the greatest common divisor of $a$ and $N$. This may be done using the Euclidean algorithm.              \n",
    "3.If $gcd(a,N) \\neq 1$ then this number is a nontrivial factor of $N$ so we are done.                             \n",
    "4.Otherwise, use the quantum period-finding subroutine to find $r$, which denotes the period of the following function:                                                                                                                                    $f(x) = a^b\\pmod N$                                                                                                            \n",
    "5.If $r$ is odd, then go back to step 1.                                                                                  \n",
    "6.If $a^{r/2} ≡ − 1 ( \\pmod N )$, then go back to step 1.                                                                     \n",
    "7.Otherwise, at least one of $gcd ( a^{r/2} + 1 , N )$ and $gcd( a^{r/2} − 1 , N )$ is a nontrivial factor of N, so we are done."
   ]
  },
  {
   "cell_type": "markdown",
   "metadata": {},
   "source": [
    "### This code calculate the greatest common divider of two given number a and b."
   ]
  },
  {
   "cell_type": "code",
   "execution_count": 2,
   "metadata": {},
   "outputs": [],
   "source": [
    "def gcd(a, b):\n",
    "    if b > a:\n",
    "        a, b = b, a\n",
    "    while b > 0:\n",
    "        a = a % b\n",
    "        a, b = b, a\n",
    "    return a"
   ]
  },
  {
   "cell_type": "markdown",
   "metadata": {},
   "source": [
    "### This code calculate the answer of $a^b\\pmod N$."
   ]
  },
  {
   "cell_type": "code",
   "execution_count": 3,
   "metadata": {},
   "outputs": [],
   "source": [
    "def Pow(a, b, N):\n",
    "    ans = 1\n",
    "    while (b > 0):\n",
    "        if b % 2:\n",
    "            ans = ans * a % N\n",
    "        b = b // 2\n",
    "        a = a * a\n",
    "    return ans"
   ]
  },
  {
   "cell_type": "markdown",
   "metadata": {},
   "source": [
    "### This code test that whether a given number $N$ is a prime number."
   ]
  },
  {
   "cell_type": "code",
   "execution_count": 4,
   "metadata": {},
   "outputs": [],
   "source": [
    "def isPrime(n) : \n",
    "  \n",
    "    if (n <= 1) : \n",
    "        return False\n",
    "    if (n <= 3) : \n",
    "        return True\n",
    "  \n",
    "    if (n % 2 == 0 or n % 3 == 0) : \n",
    "        return False\n",
    "  \n",
    "    i = 5\n",
    "    while(i * i <= n) : \n",
    "        if (n % i == 0 or n % (i + 2) == 0) : \n",
    "            return False\n",
    "        i = i + 6\n",
    "  \n",
    "    return True"
   ]
  },
  {
   "cell_type": "markdown",
   "metadata": {},
   "source": [
    "### This code test whether a given number $N$ is in the form of $a^b$"
   ]
  },
  {
   "cell_type": "code",
   "execution_count": 5,
   "metadata": {},
   "outputs": [],
   "source": [
    "def power(N):\n",
    "    def isPower(l, r, s, N):\n",
    "        if (l > r):\n",
    "            return -1\n",
    "        mid = (l + r) / 2\n",
    "        ans = fastPow.fastPowBool(mid, s, N)\n",
    "        if (ans == N):\n",
    "            return mid\n",
    "        elif (ans < N):\n",
    "            return isPower(mid+1, r, s, N)\n",
    "        else:\n",
    "            return isPower(l, mid-1, s, N)\n",
    "\n",
    "    s = int(math.floor(math.log(N, 2))) + 1\n",
    "    r = int(math.floor(math.sqrt(N))) + 1\n",
    "    for i in range(2, s):\n",
    "        ans = isPower(2, r, i, N)\n",
    "        if ans != -1:\n",
    "            return ans\n",
    "    return -1"
   ]
  },
  {
   "cell_type": "markdown",
   "metadata": {},
   "source": [
    "### This code estimate the denominator of possible fraction representing the given decimal $x$."
   ]
  },
  {
   "cell_type": "code",
   "execution_count": 6,
   "metadata": {},
   "outputs": [],
   "source": [
    "def denominator(x, N):\n",
    "    seq = []\n",
    "    if (x < 1):\n",
    "        x = 1 / x\n",
    "    k = 10\n",
    "    for i in range(10):\n",
    "        seq.append(math.floor(x))\n",
    "        if (abs(x - math.floor(x)) < 1e-9):\n",
    "            k = i + 1\n",
    "            break\n",
    "        x = 1 / (x - math.floor(x))\n",
    "    ans = []\n",
    "    ans2 = []\n",
    "    for i in range(k):\n",
    "        up = 1\n",
    "        down = seq[i]\n",
    "        for j in range(i):\n",
    "            t = seq[i-1-j]\n",
    "            d = down\n",
    "            down = down * t + up\n",
    "            up = d\n",
    "        ans.append(int(down))\n",
    "        ans2.append(int(up))\n",
    "    return ans"
   ]
  },
  {
   "cell_type": "markdown",
   "metadata": {},
   "source": [
    "## Quantum Part"
   ]
  },
  {
   "cell_type": "code",
   "execution_count": null,
   "metadata": {},
   "outputs": [],
   "source": []
  },
  {
   "cell_type": "code",
   "execution_count": null,
   "metadata": {},
   "outputs": [],
   "source": []
  },
  {
   "cell_type": "code",
   "execution_count": null,
   "metadata": {},
   "outputs": [],
   "source": []
  },
  {
   "cell_type": "code",
   "execution_count": null,
   "metadata": {},
   "outputs": [],
   "source": []
  },
  {
   "cell_type": "code",
   "execution_count": null,
   "metadata": {},
   "outputs": [],
   "source": []
  },
  {
   "cell_type": "code",
   "execution_count": null,
   "metadata": {},
   "outputs": [],
   "source": []
  },
  {
   "cell_type": "code",
   "execution_count": null,
   "metadata": {},
   "outputs": [],
   "source": []
  },
  {
   "cell_type": "code",
   "execution_count": null,
   "metadata": {},
   "outputs": [],
   "source": []
  },
  {
   "cell_type": "code",
   "execution_count": null,
   "metadata": {},
   "outputs": [],
   "source": []
  }
 ],
 "metadata": {
  "kernelspec": {
   "display_name": "Python 3",
   "language": "python",
   "name": "python3"
  },
  "language_info": {
   "codemirror_mode": {
    "name": "ipython",
    "version": 3
   },
   "file_extension": ".py",
   "mimetype": "text/x-python",
   "name": "python",
   "nbconvert_exporter": "python",
   "pygments_lexer": "ipython3",
   "version": "3.6.8"
  }
 },
 "nbformat": 4,
 "nbformat_minor": 2
}
